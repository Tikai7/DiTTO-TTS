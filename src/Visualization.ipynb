{
 "cells": [
  {
   "cell_type": "code",
   "execution_count": null,
   "metadata": {},
   "outputs": [],
   "source": [
    "import torch"
   ]
  },
  {
   "cell_type": "code",
   "execution_count": null,
   "metadata": {},
   "outputs": [],
   "source": [
    "nac_info = torch.load(\"/tempory/M2-DAC/UE_DEEP/AMAL/DiTTO-TTS/src/params/NAC_epoch_20.pth\")\n",
    "slp_info = torch.load(\"/tempory/M2-DAC/UE_DEEP/AMAL/DiTTO-TTS/src/params/SLP_epoch_20.pth\")\n",
    "ditto_info = torch.load(\"/tempory/M2-DAC/UE_DEEP/AMAL/DiTTO-TTS/src/params/SLP_epoch_20.pth\")"
   ]
  },
  {
   "cell_type": "code",
   "execution_count": null,
   "metadata": {},
   "outputs": [],
   "source": [
    "history_nac = nac_info[\"history\"]\n",
    "history_slp = slp_info[\"history\"]\n",
    "history_slp = ditto_info[\"history\"]"
   ]
  },
  {
   "cell_type": "code",
   "execution_count": null,
   "metadata": {},
   "outputs": [],
   "source": [
    "import matplotlib.pyplot as plt \n",
    "\n",
    "\n",
    "val_loss = history_slp[\"validation\"][\"loss\"]\n",
    "train_loss = history_slp[\"train\"][\"loss\"]\n",
    "\n",
    "val_accuracy = history_slp[\"validation\"][\"accuracy\"]\n",
    "train_accuracy = history_slp[\"train\"][\"accuracy\"]"
   ]
  },
  {
   "cell_type": "code",
   "execution_count": null,
   "metadata": {},
   "outputs": [],
   "source": [
    "plt.style.use(\"ggplot\") \n",
    "plt.figure(figsize=(12,7))   \n",
    "plt.plot(val_accuracy,label=\"validation accuracy\") \n",
    "plt.plot(train_accuracy,label=\"train accuracy\") \n",
    "plt.legend()\n",
    "plt.title(\"[SLP] Accuracy\")   "
   ]
  },
  {
   "cell_type": "code",
   "execution_count": null,
   "metadata": {},
   "outputs": [],
   "source": [
    "plt.style.use(\"ggplot\") \n",
    "plt.figure(figsize=(12,7))   \n",
    "plt.plot(val_loss,label=\"validation loss\") \n",
    "plt.plot(train_loss,label=\"train loss\") \n",
    "plt.legend()\n",
    "plt.title(\"[SLP] Loss\")   "
   ]
  },
  {
   "cell_type": "code",
   "execution_count": null,
   "metadata": {},
   "outputs": [],
   "source": [
    "val_loss = history_nac[\"validation\"][\"loss\"]\n",
    "train_loss = history_nac[\"train\"][\"loss\"]"
   ]
  },
  {
   "cell_type": "code",
   "execution_count": null,
   "metadata": {},
   "outputs": [],
   "source": [
    "lm_loss_train = [x[\"lm_loss\"].detach().cpu()  for x in history[\"train\"][\"metrics\"]]\n",
    "reconstruction_loss_train = [x[\"reconstruction_loss\"].detach().cpu() for x in history[\"train\"][\"metrics\"]]\n",
    "\n",
    "lm_loss_val = [x[\"lm_loss\"].detach().cpu()  for x in history[\"validation\"][\"metrics\"]]\n",
    "reconstruction_loss_val = [x[\"reconstruction_loss\"].detach().cpu() for x in history[\"validation\"][\"metrics\"]]\n",
    "\n",
    "\n",
    "\n",
    "plt.style.use(\"ggplot\") \n",
    "plt.figure(figsize=(12,7))   \n",
    "plt.plot(lm_loss_train,label=\"train lm_loss\") \n",
    "plt.plot(reconstruction_loss_train,label=\"train reconstruction_loss\") \n",
    "plt.plot(lm_loss_val,label=\"validation lm_loss\") \n",
    "plt.plot(reconstruction_loss_val,label=\"validation reconstruction_loss\") \n",
    "plt.legend()\n",
    "plt.title(\"[NAC] Lm loss compared to reconstruction loss\")   "
   ]
  },
  {
   "cell_type": "code",
   "execution_count": null,
   "metadata": {},
   "outputs": [],
   "source": [
    "plt.style.use(\"ggplot\") \n",
    "plt.figure(figsize=(12,7))   \n",
    "plt.plot(val_loss,label=\"validation loss\") \n",
    "plt.plot(train_loss, label=\"train loss\") \n",
    "plt.legend()\n",
    "plt.title(\"[NAC] Total loss with Lambda=0.1\")   "
   ]
  },
  {
   "cell_type": "code",
   "execution_count": null,
   "metadata": {},
   "outputs": [],
   "source": []
  }
 ],
 "metadata": {
  "kernelspec": {
   "display_name": "Python 3",
   "language": "python",
   "name": "python3"
  },
  "language_info": {
   "codemirror_mode": {
    "name": "ipython",
    "version": 3
   },
   "file_extension": ".py",
   "mimetype": "text/x-python",
   "name": "python",
   "nbconvert_exporter": "python",
   "pygments_lexer": "ipython3",
   "version": "3.10.10"
  }
 },
 "nbformat": 4,
 "nbformat_minor": 2
}
