{
 "cells": [
  {
   "cell_type": "code",
   "execution_count": 39,
   "metadata": {},
   "outputs": [
    {
     "name": "stdout",
     "output_type": "stream",
     "text": [
      "The autoreload extension is already loaded. To reload it, use:\n",
      "  %reload_ext autoreload\n"
     ]
    }
   ],
   "source": [
    "%load_ext autoreload\n",
    "%autoreload 2"
   ]
  },
  {
   "cell_type": "code",
   "execution_count": 45,
   "metadata": {},
   "outputs": [],
   "source": [
    "import torchaudio\n",
    "\n",
    "from model.SpeechGenerator import SpeechGenerator\n",
    "from utils.Config import ConfigSLP, ConfigNAC, ConfigDiTTO\n",
    "from utils.MLS import MLSDataset\n",
    "from utils.Processing import Processing\n",
    "\n",
    "from torch.utils.data import DataLoader"
   ]
  },
  {
   "cell_type": "code",
   "execution_count": 46,
   "metadata": {},
   "outputs": [
    {
     "name": "stdout",
     "output_type": "stream",
     "text": [
      "############# Base Settings: #############\n",
      "\n",
      "Audio Settings:\n",
      "  Sample Rate: 24000 Hz\n",
      "  Min Audio Duration: 10 seconds\n",
      "  Max Audio Duration: 20 seconds\n",
      "\n",
      "Training Settings:\n",
      "  Betas: [0.9, 0.999]\n",
      "  Device: cuda\n",
      "\n",
      "Data Settings:\n",
      "  Train Path: /tempory/M2-DAC/UE_DEEP/AMAL/DiTTO-TTS/data/mls_french_opus/train\n",
      "  Test Path: /tempory/M2-DAC/UE_DEEP/AMAL/DiTTO-TTS/data/mls_french_opus/test\n",
      "  Dev Path: /tempory/M2-DAC/UE_DEEP/AMAL/DiTTO-TTS/data/mls_french_opus/dev\n",
      "\n",
      "############# SLP Settings: #############\n",
      "\n",
      "Model Settings:\n",
      "  Model Name: SLP\n",
      "  Embedding Dimension: 1472\n",
      "  Number of Layers: 1\n",
      "  Number of Attention Heads: 1\n",
      "  Number of Classes: 11\n",
      "  Number of Samples: 10000\n",
      "  Batch Size: 8\n",
      "  Learning Rate: 0.0001\n",
      "  Epochs: 20\n",
      "  Token length for ByT5: 128\n",
      "############# Base Settings: #############\n",
      "\n",
      "Audio Settings:\n",
      "  Sample Rate: 24000 Hz\n",
      "  Min Audio Duration: 10 seconds\n",
      "  Max Audio Duration: 20 seconds\n",
      "\n",
      "Training Settings:\n",
      "  Betas: [0.9, 0.999]\n",
      "  Device: cuda\n",
      "\n",
      "Data Settings:\n",
      "  Train Path: /tempory/M2-DAC/UE_DEEP/AMAL/DiTTO-TTS/data/mls_french_opus/train\n",
      "  Test Path: /tempory/M2-DAC/UE_DEEP/AMAL/DiTTO-TTS/data/mls_french_opus/test\n",
      "  Dev Path: /tempory/M2-DAC/UE_DEEP/AMAL/DiTTO-TTS/data/mls_french_opus/dev\n",
      "\n",
      "############# NAC Settings: #############\n",
      "\n",
      "Model Settings:\n",
      "  Model Name: NAC\n",
      "  Lambda Factor: 0.1\n",
      "  Number of Samples: 10000\n",
      "  Batch Size: 4\n",
      "  Learning Rate: 0.0001\n",
      "  Epochs: 20\n",
      "  Token length for GPT2: 1024\n",
      "############# Base Settings: #############\n",
      "\n",
      "Audio Settings:\n",
      "  Sample Rate: 24000 Hz\n",
      "  Min Audio Duration: 10 seconds\n",
      "  Max Audio Duration: 20 seconds\n",
      "\n",
      "Training Settings:\n",
      "  Betas: [0.9, 0.999]\n",
      "  Device: cuda\n",
      "\n",
      "Data Settings:\n",
      "  Train Path: /tempory/M2-DAC/UE_DEEP/AMAL/DiTTO-TTS/data/mls_french_opus/train\n",
      "  Test Path: /tempory/M2-DAC/UE_DEEP/AMAL/DiTTO-TTS/data/mls_french_opus/test\n",
      "  Dev Path: /tempory/M2-DAC/UE_DEEP/AMAL/DiTTO-TTS/data/mls_french_opus/dev\n",
      "\n",
      "############# DiTTO Settings: #############\n",
      "\n",
      "Model Architecture Settings:\n",
      "  Model Name: DiTTO\n",
      "  Hidden Dimension: 768\n",
      "  Number of Layers: 5\n",
      "  Number of Attention Heads: 1\n",
      "  Time Embedding Dimension: 256\n",
      "  Text Embedding Dimension: 768\n",
      "\n",
      "Diffusion Process Settings:\n",
      "  Diffusion Steps: 1000\n",
      "\n",
      "Training Settings:\n",
      "  Epochs: 20\n",
      "  Learning Rate: 0.0001\n",
      "  Batch Size: 8\n",
      "\n",
      "Data Settings:\n",
      "  Number of Samples: 10000\n",
      "  Max Token Length: 1024\n"
     ]
    }
   ],
   "source": [
    "ConfigSLP.display()\n",
    "ConfigNAC.display()\n",
    "ConfigDiTTO.display()"
   ]
  },
  {
   "cell_type": "code",
   "execution_count": null,
   "metadata": {},
   "outputs": [],
   "source": [
    "# Processing.remove_metadata_from_audio_folder(ConfigSLP.TRAIN_PATH+\"/\"+\"audio\", ConfigSLP.TRAIN_PATH+\"/\"+\"audio_clean\",)\n",
    "# Processing.remove_metadata_from_audio_folder(ConfigSLP.TEST_PATH+\"/\"+\"audio\", ConfigSLP.TEST_PATH+\"/\"+\"audio_clean\",)\n",
    "# Processing.remove_metadata_from_audio_folder(ConfigSLP.DEV_PATH+\"/\"+\"audio\", ConfigSLP.DEV_PATH+\"/\"+\"audio_clean\",)"
   ]
  },
  {
   "cell_type": "markdown",
   "metadata": {},
   "source": [
    "## Speech Generation with DiTTO-TTs and Vocoder"
   ]
  },
  {
   "cell_type": "code",
   "execution_count": null,
   "metadata": {},
   "outputs": [],
   "source": [
    "train_set = MLSDataset(\n",
    "    data_dir=ConfigDiTTO.TRAIN_PATH,\n",
    "    max_text_token_length=ConfigDiTTO.MAX_TOKEN_LENGTH,\n",
    "    sampling_rate=ConfigDiTTO.SAMPLE_RATE,\n",
    "    nb_samples=ConfigDiTTO.NB_SAMPLES,\n",
    "    tokenizer_model=\"gpt2\"\n",
    ")\n",
    "\n",
    "test_set = MLSDataset(\n",
    "    data_dir=ConfigDiTTO.TEST_PATH,\n",
    "    max_text_token_length=ConfigDiTTO.MAX_TOKEN_LENGTH,\n",
    "    sampling_rate=ConfigDiTTO.SAMPLE_RATE,\n",
    "    nb_samples=ConfigDiTTO.NB_SAMPLES,\n",
    "    tokenizer_model=\"gpt2\"\n",
    ")\n",
    "\n",
    "train_loader = DataLoader(train_set, batch_size=ConfigNAC.BATCH_SIZE, shuffle=True, collate_fn=MLSDataset.collate_fn)\n",
    "test_loader = DataLoader(test_set, batch_size=ConfigNAC.BATCH_SIZE, shuffle=True, collate_fn=MLSDataset.collate_fn)"
   ]
  },
  {
   "cell_type": "code",
   "execution_count": null,
   "metadata": {},
   "outputs": [],
   "source": [
    "speech_generator = SpeechGenerator(\n",
    "    nac_model_path=\"/tempory/M2-DAC/UE_DEEP/AMAL/DiTTO-TTS/src/params/NAC_epoch_20.pth\",\n",
    "    ditto_model_path=\"/tempory/M2-DAC/UE_DEEP/AMAL/DiTTO-TTS/src/params/DiTTO_epoch_20.pth\",\n",
    "    lambda_factor=ConfigNAC.LAMBDA_FACTOR,\n",
    "    sample_rate=ConfigNAC.SAMPLE_RATE,\n",
    "    device=ConfigDiTTO.DEVICE\n",
    ")"
   ]
  },
  {
   "cell_type": "code",
   "execution_count": 47,
   "metadata": {},
   "outputs": [],
   "source": [
    "def test_with_loader(loader, prompt):\n",
    "    device = ConfigDiTTO.DEVICE\n",
    "    item = next(iter(loader))\n",
    "    item[\"text\"][\"input_ids\"] = item[\"text\"][\"input_ids\"].to(device)\n",
    "    item[\"text\"][\"attention_mask\"] = item[\"text\"][\"attention_mask\"].to(device)\n",
    "    text_input = item[\"text\"][\"input_ids\"][0].unsqueeze(0)\n",
    "    audio_input = item[\"audio\"][0].to(device).unsqueeze(0)\n",
    "    padding_mask_audio = item[\"padding_mask_audio\"][0].to(device).unsqueeze(0)\n",
    "    generated_waveform = speech_generator.generate_speech_from_audio_tensor(audio_input, padding_mask_audio, prompt)\n",
    "    output_path = \"output.wav\"\n",
    "    torchaudio.save(output_path, generated_waveform.cpu(), ConfigDiTTO.SAMPLE_RATE)"
   ]
  },
  {
   "cell_type": "code",
   "execution_count": 48,
   "metadata": {},
   "outputs": [
    {
     "name": "stderr",
     "output_type": "stream",
     "text": [
      "1000it [04:49,  3.45it/s]\n"
     ]
    },
    {
     "name": "stdout",
     "output_type": "stream",
     "text": [
      "[WARNING] Min value of input waveform signal is -1.2479965686798096\n"
     ]
    }
   ],
   "source": [
    "test_with_loader(train_loader, \"Bonjour, comment çava tout le monde ?\")"
   ]
  },
  {
   "cell_type": "code",
   "execution_count": null,
   "metadata": {},
   "outputs": [],
   "source": [
    "test_with_loader(test_loader, \"Bonjour, comment çava tout le monde ?\")"
   ]
  }
 ],
 "metadata": {
  "kernelspec": {
   "display_name": ".venv",
   "language": "python",
   "name": "python3"
  },
  "language_info": {
   "codemirror_mode": {
    "name": "ipython",
    "version": 3
   },
   "file_extension": ".py",
   "mimetype": "text/x-python",
   "name": "python",
   "nbconvert_exporter": "python",
   "pygments_lexer": "ipython3",
   "version": "3.9.6"
  }
 },
 "nbformat": 4,
 "nbformat_minor": 2
}
